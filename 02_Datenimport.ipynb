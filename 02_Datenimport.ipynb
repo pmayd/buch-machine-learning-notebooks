{
  "cells": [
    {
      "cell_type": "markdown",
      "metadata": {
        "colab_type": "text",
        "id": "view-in-github"
      },
      "source": [
        "<a href=\"https://colab.research.google.com/github/DJCordhose/buch-machine-learning-notebooks/blob/master/kap3.ipynb\" target=\"_parent\"><img src=\"https://colab.research.google.com/assets/colab-badge.svg\" alt=\"Open In Colab\"/></a>"
      ]
    },
    {
      "cell_type": "markdown",
      "metadata": {
        "colab_type": "text",
        "id": "ErGb_ezkjLwG"
      },
      "source": [
        "# Kapitel 3: Datenimport und -vorbereitung"
      ]
    },
    {
      "cell_type": "code",
      "execution_count": null,
      "metadata": {
        "colab": {},
        "colab_type": "code",
        "id": "naWLFkx-jLwH"
      },
      "outputs": [],
      "source": [
        "import warnings\n",
        "warnings.filterwarnings('ignore')"
      ]
    },
    {
      "cell_type": "code",
      "execution_count": null,
      "metadata": {
        "colab": {
          "base_uri": "https://localhost:8080/",
          "height": 34
        },
        "colab_type": "code",
        "id": "FeFZlUFijLwK",
        "outputId": "fe82de42-ceb7-4c66-91e8-9449294b18bc"
      },
      "outputs": [],
      "source": [
        "%matplotlib inline\n",
        "%pylab inline"
      ]
    },
    {
      "cell_type": "code",
      "execution_count": null,
      "metadata": {
        "colab": {
          "base_uri": "https://localhost:8080/",
          "height": 34
        },
        "colab_type": "code",
        "id": "bglwy-yIjLwR",
        "outputId": "ac703183-c6ec-41b4-9952-a8d1be5afe7c"
      },
      "outputs": [],
      "source": [
        "import pandas as pd\n",
        "print(pd.__version__)"
      ]
    },
    {
      "cell_type": "code",
      "execution_count": null,
      "metadata": {
        "colab": {
          "base_uri": "https://localhost:8080/",
          "height": 34
        },
        "colab_type": "code",
        "id": "UqcwPlBQjLwU",
        "outputId": "620074cd-f4ad-4aba-e38c-96a424c23e9f"
      },
      "outputs": [],
      "source": [
        "import seaborn as sns\n",
        "print(sns.__version__)"
      ]
    },
    {
      "cell_type": "markdown",
      "metadata": {
        "colab_type": "text",
        "id": "qVY2ewCDjLwW"
      },
      "source": [
        "## Zuerst laden wir den Iris Datensatz und verschaffen uns einen ersten Eindruck\n",
        "https://de.wikipedia.org/wiki/Portal:Statistik/Datensaetze#Iris"
      ]
    },
    {
      "cell_type": "code",
      "execution_count": null,
      "metadata": {
        "colab": {
          "base_uri": "https://localhost:8080/",
          "height": 68
        },
        "colab_type": "code",
        "id": "LsqcM7JejLwW",
        "outputId": "b13b1f4f-a135-4c4c-de43-f786bd654439"
      },
      "outputs": [],
      "source": [
        "!curl -O https://raw.githubusercontent.com/DJCordhose/ml-examples/master/datasets/Iris/iris_dirty.csv"
      ]
    },
    {
      "cell_type": "code",
      "execution_count": null,
      "metadata": {
        "colab": {},
        "colab_type": "code",
        "id": "lMr8ijfmjLwd"
      },
      "outputs": [],
      "source": [
        "# Laden der Daten mit pandas read_csv"
      ]
    },
    {
      "cell_type": "code",
      "execution_count": null,
      "metadata": {},
      "outputs": [],
      "source": [
        "# prüfe shape"
      ]
    },
    {
      "cell_type": "code",
      "execution_count": null,
      "metadata": {
        "colab": {
          "base_uri": "https://localhost:8080/",
          "height": 204
        },
        "colab_type": "code",
        "id": "h718BT-qjLwf",
        "outputId": "99062189-5d38-4787-8853-de53ae652f3a"
      },
      "outputs": [],
      "source": [
        "# Anzeige der ersten Zeilen"
      ]
    },
    {
      "cell_type": "code",
      "execution_count": null,
      "metadata": {
        "colab": {
          "base_uri": "https://localhost:8080/",
          "height": 119
        },
        "colab_type": "code",
        "id": "LFP91h08jLwi",
        "outputId": "863bf86c-bc2d-4a4c-d750-46b48b0edf2a"
      },
      "outputs": [],
      "source": [
        "# Anzeige der Werte ungleich Null (nicht leer) pro Spalte"
      ]
    },
    {
      "cell_type": "markdown",
      "metadata": {
        "colab_type": "text",
        "id": "CqbkP8amjLwl"
      },
      "source": [
        "## Exkurs: Datenstrukturen in Pandas"
      ]
    },
    {
      "cell_type": "markdown",
      "metadata": {
        "colab_type": "text",
        "id": "MUYGV3N_jLwm"
      },
      "source": [
        "### Series"
      ]
    },
    {
      "cell_type": "code",
      "execution_count": null,
      "metadata": {
        "colab": {},
        "colab_type": "code",
        "id": "qsM1iXE0jLwm"
      },
      "outputs": [],
      "source": [
        "# Series ist einfach eine Liste von Daten"
      ]
    },
    {
      "cell_type": "code",
      "execution_count": null,
      "metadata": {
        "colab": {
          "base_uri": "https://localhost:8080/",
          "height": 34
        },
        "colab_type": "code",
        "id": "AJ-vU0DtjLwo",
        "outputId": "0939ccfe-a709-41e1-819b-d01c1ffafae4"
      },
      "outputs": [],
      "source": [
        "# type einer Series"
      ]
    },
    {
      "cell_type": "code",
      "execution_count": null,
      "metadata": {
        "colab": {
          "base_uri": "https://localhost:8080/",
          "height": 85
        },
        "colab_type": "code",
        "id": "ZJw5a_cHjLwr",
        "outputId": "a00e9d3c-0b71-45c7-c725-bb6cce655f6e"
      },
      "outputs": [],
      "source": [
        "# Wenn kein Index angegeben ist, wird einfach fortlaufend durchnummeriert"
      ]
    },
    {
      "cell_type": "code",
      "execution_count": null,
      "metadata": {
        "colab": {
          "base_uri": "https://localhost:8080/",
          "height": 85
        },
        "colab_type": "code",
        "id": "t3t6moCTjLwt",
        "outputId": "0a8e287a-4a6d-4d7d-dcd2-5aa18485c2e6"
      },
      "outputs": [],
      "source": [
        "# Du kannst den Index aber auch angeben, entweder über Paare von Name und Wert"
      ]
    },
    {
      "cell_type": "code",
      "execution_count": null,
      "metadata": {
        "colab": {
          "base_uri": "https://localhost:8080/",
          "height": 85
        },
        "colab_type": "code",
        "id": "_SWPb06IjLwu",
        "outputId": "2eb375e5-eb08-4296-fdb2-5d8d96933bac"
      },
      "outputs": [],
      "source": [
        "# oder als extra Parameter"
      ]
    },
    {
      "cell_type": "code",
      "execution_count": null,
      "metadata": {
        "colab": {
          "base_uri": "https://localhost:8080/",
          "height": 34
        },
        "colab_type": "code",
        "id": "ZWUYOYimjLww",
        "outputId": "7f07b272-47f4-4789-e9f6-dee06b7d24a5"
      },
      "outputs": [],
      "source": [
        "# mit dem []-Operator kommst du an einzelne Werte über ihre Position (nicht Index) heran"
      ]
    },
    {
      "cell_type": "code",
      "execution_count": null,
      "metadata": {
        "colab": {
          "base_uri": "https://localhost:8080/",
          "height": 34
        },
        "colab_type": "code",
        "id": "M5Ewp0qjjLw1",
        "outputId": "fd6dd305-9669-4ce4-9cd3-32d28404c263"
      },
      "outputs": [],
      "source": [
        "# Der Index geht aber auch"
      ]
    },
    {
      "cell_type": "code",
      "execution_count": null,
      "metadata": {
        "colab": {
          "base_uri": "https://localhost:8080/",
          "height": 34
        },
        "colab_type": "code",
        "id": "wBW7MtoljLw3",
        "outputId": "4b9fbf13-e449-42e8-d22f-f9b64e3ad78e"
      },
      "outputs": [],
      "source": [
        "# oder du machst explizit womit du die Daten herausbekommen willst\n",
        "# mit loc"
      ]
    },
    {
      "cell_type": "code",
      "execution_count": null,
      "metadata": {
        "colab": {
          "base_uri": "https://localhost:8080/",
          "height": 34
        },
        "colab_type": "code",
        "id": "VN3IX0rFjLw4",
        "outputId": "60c28ddd-e388-40f2-c5ba-84f70b94deeb"
      },
      "outputs": [],
      "source": [
        "# oder iloc"
      ]
    },
    {
      "cell_type": "code",
      "execution_count": null,
      "metadata": {
        "colab": {
          "base_uri": "https://localhost:8080/",
          "height": 68
        },
        "colab_type": "code",
        "id": "tcJpRUN9jLw7",
        "outputId": "831c8d82-c343-45f8-f260-c16899e8199f"
      },
      "outputs": [],
      "source": [
        "# Mehrere Werte gehen auch"
      ]
    },
    {
      "cell_type": "code",
      "execution_count": null,
      "metadata": {
        "colab": {
          "base_uri": "https://localhost:8080/",
          "height": 68
        },
        "colab_type": "code",
        "id": "hyP32F3TjLw9",
        "outputId": "11c407a9-b586-4c34-f232-ef44662545bc"
      },
      "outputs": [],
      "source": [
        "# Wertebereiche trennst du mit einem Doppelpunkt, der erste Startwert ist inklusiv, der Endwert exklusiv  "
      ]
    },
    {
      "cell_type": "code",
      "execution_count": null,
      "metadata": {
        "colab": {
          "base_uri": "https://localhost:8080/",
          "height": 68
        },
        "colab_type": "code",
        "id": "pYqlQHUEjLw-",
        "outputId": "79372d20-fe5b-4d7b-fec8-5d168b678f9f"
      },
      "outputs": [],
      "source": [
        "# Wenn der Startwert 0 ist kannst du ihn auch weglassen"
      ]
    },
    {
      "cell_type": "code",
      "execution_count": null,
      "metadata": {
        "colab": {
          "base_uri": "https://localhost:8080/",
          "height": 68
        },
        "colab_type": "code",
        "id": "Tb8driiCjLxA",
        "outputId": "c87c5b59-bd5d-49b0-d4e3-353eaa3968ee"
      },
      "outputs": [],
      "source": [
        "# Wenn du den Endwert weglässt, bekommst du alle Werte ab dem Startwert"
      ]
    },
    {
      "cell_type": "markdown",
      "metadata": {
        "colab_type": "text",
        "id": "ZdIxk66yjLxD"
      },
      "source": [
        "#### Fortgeschrittenes"
      ]
    },
    {
      "cell_type": "code",
      "execution_count": null,
      "metadata": {
        "colab": {
          "base_uri": "https://localhost:8080/",
          "height": 51
        },
        "colab_type": "code",
        "id": "MDWU4R_QjLxE",
        "outputId": "727f9cd7-8433-4564-92ab-6b7329a5852f"
      },
      "outputs": [],
      "source": [
        "# Du kannst auch eine Funktion angeben, die bestimmt, welche Wert du haben möchtest"
      ]
    },
    {
      "cell_type": "code",
      "execution_count": null,
      "metadata": {
        "colab": {
          "base_uri": "https://localhost:8080/",
          "height": 34
        },
        "colab_type": "code",
        "id": "pDX4TLtgjLxG",
        "outputId": "5696b3f8-037f-4e57-b799-acb0b9bd9818"
      },
      "outputs": [],
      "source": [
        "# falls du dich fragst, wieso das der []-Operator das kann: er ist für die Series überladen\n",
        "# hier ein einfaches Beispiel, wie sowas geht\n",
        "# http://stackoverflow.com/questions/1957780/how-to-override-operator\n",
        "class MyClass:\n",
        "    def __getitem__(self, key):\n",
        "        return key * 2\n",
        "myobj = MyClass()\n",
        "myobj[3]"
      ]
    },
    {
      "cell_type": "markdown",
      "metadata": {
        "colab_type": "text",
        "id": "mYXkaqXyjLxH"
      },
      "source": [
        "### Dataframes"
      ]
    },
    {
      "cell_type": "code",
      "execution_count": null,
      "metadata": {
        "colab": {},
        "colab_type": "code",
        "id": "2muQ3gIMjLxI"
      },
      "outputs": [],
      "source": [
        "# Ein DateFrame besteht aus mehreren Series, diese haben typischerweise, aber nicht notwendigerweise, denselben Index\n"
      ]
    },
    {
      "cell_type": "code",
      "execution_count": null,
      "metadata": {
        "colab": {
          "base_uri": "https://localhost:8080/",
          "height": 34
        },
        "colab_type": "code",
        "id": "KOn3bm1NjLxK",
        "outputId": "07d4d198-e4d2-487c-aeda-42ef5370d99e"
      },
      "outputs": [],
      "source": [
        "# type eines data frames"
      ]
    },
    {
      "cell_type": "code",
      "execution_count": null,
      "metadata": {
        "colab": {
          "base_uri": "https://localhost:8080/",
          "height": 142
        },
        "colab_type": "code",
        "id": "cxe-N_CHjLxL",
        "outputId": "ed79ec28-b670-46b4-a981-4f0312157198"
      },
      "outputs": [],
      "source": [
        "# Ausgabe des data frames"
      ]
    },
    {
      "cell_type": "code",
      "execution_count": null,
      "metadata": {
        "colab": {},
        "colab_type": "code",
        "id": "QHzWFVPmjLxO"
      },
      "outputs": [],
      "source": [
        "# du kannst dir jederzeit auch Dokumentation für alle Klassen und Funktionen anzeigen lassen\n",
        "# pd.DataFrame?"
      ]
    },
    {
      "cell_type": "code",
      "execution_count": null,
      "metadata": {
        "colab": {},
        "colab_type": "code",
        "id": "lHphDCeGjLxP"
      },
      "outputs": [],
      "source": [
        "# Series haben Labels, über diese kommst du an die einzelnen Series"
      ]
    },
    {
      "cell_type": "code",
      "execution_count": null,
      "metadata": {
        "colab": {
          "base_uri": "https://localhost:8080/",
          "height": 34
        },
        "colab_type": "code",
        "id": "tHy_-HK4jLxW",
        "outputId": "0afb9858-a656-47c9-93b4-b15d11ee7534"
      },
      "outputs": [],
      "source": [
        "# Series kennst du bereits von oben"
      ]
    },
    {
      "cell_type": "code",
      "execution_count": null,
      "metadata": {
        "colab": {
          "base_uri": "https://localhost:8080/",
          "height": 34
        },
        "colab_type": "code",
        "id": "fuZtDLaDjLxX",
        "outputId": "edbe6c2b-c504-4030-ad22-75f2a0885aee"
      },
      "outputs": [],
      "source": [
        "# du kannst aber auch einen kombinierten Zugriff formulieren"
      ]
    },
    {
      "cell_type": "markdown",
      "metadata": {
        "colab_type": "text",
        "id": "Qp2KOblajLxZ"
      },
      "source": [
        "## Weiter im Thema: Fehlende Werte herausfinden und korrigieren"
      ]
    },
    {
      "cell_type": "code",
      "execution_count": null,
      "metadata": {
        "colab": {
          "base_uri": "https://localhost:8080/",
          "height": 221
        },
        "colab_type": "code",
        "id": "aASwhakWjLxa",
        "outputId": "ff342b9e-1f46-4f7e-d49f-37f4a6deb679"
      },
      "outputs": [],
      "source": [
        "# Spalte sepal width des data frames"
      ]
    },
    {
      "cell_type": "code",
      "execution_count": null,
      "metadata": {
        "colab": {
          "base_uri": "https://localhost:8080/",
          "height": 221
        },
        "colab_type": "code",
        "id": "o18bRdIxjLxc",
        "outputId": "017eac28-25b4-4f62-8e97-4f974df0e082"
      },
      "outputs": [],
      "source": [
        "# Prüfe alle Werte von sepal width auf isnull"
      ]
    },
    {
      "cell_type": "code",
      "execution_count": null,
      "metadata": {},
      "outputs": [],
      "source": [
        "# Prüfe Anzahl fehlender Werte"
      ]
    },
    {
      "cell_type": "code",
      "execution_count": null,
      "metadata": {
        "colab": {
          "base_uri": "https://localhost:8080/",
          "height": 80
        },
        "colab_type": "code",
        "id": "M3K26GnJjLxf",
        "outputId": "782fe351-e0b3-4f53-cd33-239a87b772a6"
      },
      "outputs": [],
      "source": [
        "# Nutze die vorherige boolsche Maske um auf fehlende Werte zuzugreifen"
      ]
    },
    {
      "cell_type": "markdown",
      "metadata": {},
      "source": [
        "Wie können wir diesen fehlenden Wert durch den Mittelwert ersetzen? Andere Strategien?"
      ]
    },
    {
      "cell_type": "code",
      "execution_count": null,
      "metadata": {
        "colab": {
          "base_uri": "https://localhost:8080/",
          "height": 1000
        },
        "colab_type": "code",
        "id": "kRzKDdVljLxh",
        "outputId": "1f4a5b0d-1efe-4b1b-c629-c7254fb7e6e8"
      },
      "outputs": [],
      "source": [
        "# Filtere nur die Zeilen, die zur Klasse Iris-versicolor gehören"
      ]
    },
    {
      "cell_type": "code",
      "execution_count": null,
      "metadata": {
        "colab": {
          "base_uri": "https://localhost:8080/",
          "height": 34
        },
        "colab_type": "code",
        "id": "Ug9NOsiCjLxo",
        "outputId": "5d7709ae-d01b-49cf-8cff-366c6de806db"
      },
      "outputs": [],
      "source": [
        "# Bestimme Mittelwert der Spalte 'sepal width'"
      ]
    },
    {
      "cell_type": "code",
      "execution_count": null,
      "metadata": {
        "colab": {
          "base_uri": "https://localhost:8080/",
          "height": 119
        },
        "colab_type": "code",
        "id": "i8kTw0aajLxq",
        "outputId": "0a1339f8-2495-46a6-f8cd-56cb99e48b5b"
      },
      "outputs": [],
      "source": [
        "# Überprüfe Eintrag mit Index 82"
      ]
    },
    {
      "cell_type": "code",
      "execution_count": null,
      "metadata": {
        "colab": {},
        "colab_type": "code",
        "id": "cRNorCh0jLxs"
      },
      "outputs": [],
      "source": [
        "# Setze die Zelle mit Zeilen-ID 82 aund Spalte sepal width auf den Mittelwert dieser Spalte"
      ]
    },
    {
      "cell_type": "code",
      "execution_count": null,
      "metadata": {},
      "outputs": [],
      "source": [
        "# Alternativ: nutze fillna"
      ]
    },
    {
      "cell_type": "code",
      "execution_count": null,
      "metadata": {
        "colab": {
          "base_uri": "https://localhost:8080/",
          "height": 119
        },
        "colab_type": "code",
        "id": "aWOVcQ4HjLxx",
        "outputId": "d6baf118-0706-4846-e27d-3d8a24295e59"
      },
      "outputs": [],
      "source": [
        "# Überprüfe Anzahl der nicht-Null Werte pro Feature"
      ]
    },
    {
      "cell_type": "markdown",
      "metadata": {
        "colab_type": "text",
        "id": "puUK-GaSjLxz"
      },
      "source": [
        "## Dubletten finden und löschen"
      ]
    },
    {
      "cell_type": "code",
      "execution_count": null,
      "metadata": {},
      "outputs": [],
      "source": [
        "# Finde Anzahl Duplikate"
      ]
    },
    {
      "cell_type": "code",
      "execution_count": null,
      "metadata": {
        "colab": {
          "base_uri": "https://localhost:8080/",
          "height": 204
        },
        "colab_type": "code",
        "id": "JqhJKMZqjLx0",
        "outputId": "fb336701-1a99-4477-d68a-bc272f96eb60"
      },
      "outputs": [],
      "source": [
        "# Nutze pandas duplicated, um Duplicate zu finden"
      ]
    },
    {
      "cell_type": "code",
      "execution_count": null,
      "metadata": {},
      "outputs": [],
      "source": [
        "# Duplicate können über Index oder drop_duplicates (einfacher, oder?) entfernt werden"
      ]
    },
    {
      "cell_type": "code",
      "execution_count": null,
      "metadata": {},
      "outputs": [],
      "source": [
        "# Aber haben wir die richtigen entfernt? Es soll von jeder Klasse genau 50 Einträge geben"
      ]
    },
    {
      "cell_type": "code",
      "execution_count": null,
      "metadata": {
        "colab": {
          "base_uri": "https://localhost:8080/",
          "height": 204
        },
        "colab_type": "code",
        "id": "sM76RDHijLx1",
        "outputId": "3d96f903-b28c-49d9-d851-b8408609975d"
      },
      "outputs": [],
      "source": [
        "# gib für jede Klasse die Anzahl der Beispiele aus"
      ]
    },
    {
      "cell_type": "code",
      "execution_count": null,
      "metadata": {},
      "outputs": [],
      "source": [
        "# Alternativ: value_counts"
      ]
    },
    {
      "cell_type": "code",
      "execution_count": null,
      "metadata": {
        "colab": {},
        "colab_type": "code",
        "id": "P284JNfcjLx3"
      },
      "outputs": [],
      "source": [
        "# Entferne einen der doppelten Einträge für iris-versicolor"
      ]
    },
    {
      "cell_type": "code",
      "execution_count": null,
      "metadata": {
        "colab": {
          "base_uri": "https://localhost:8080/",
          "height": 204
        },
        "colab_type": "code",
        "id": "iO8zDvyqjLx7",
        "outputId": "24beff84-3c7f-4a04-f9ce-9d500e4c328a"
      },
      "outputs": [],
      "source": [
        "# Überprüfe erneut die Anzahl aller Klassen"
      ]
    },
    {
      "cell_type": "markdown",
      "metadata": {
        "colab_type": "text",
        "id": "zKanieSTjLx-"
      },
      "source": [
        "## Zeichendreher / Tippfehler"
      ]
    },
    {
      "cell_type": "code",
      "execution_count": null,
      "metadata": {
        "colab": {
          "base_uri": "https://localhost:8080/",
          "height": 80
        },
        "colab_type": "code",
        "id": "UyiHcwYRjLx-",
        "outputId": "c9ea23be-766f-43eb-aefe-643530a5d5da"
      },
      "outputs": [],
      "source": [
        "# Finde falsch gelabelten Datensatz"
      ]
    },
    {
      "cell_type": "code",
      "execution_count": null,
      "metadata": {
        "colab": {},
        "colab_type": "code",
        "id": "9FW1U4ynjLyC"
      },
      "outputs": [],
      "source": [
        "# Korrigiere das Label/target"
      ]
    },
    {
      "cell_type": "code",
      "execution_count": null,
      "metadata": {
        "colab": {
          "base_uri": "https://localhost:8080/",
          "height": 173
        },
        "colab_type": "code",
        "id": "Syz1se58jLyE",
        "outputId": "7e03dca3-90f8-4934-c15a-7f975198ff4c"
      },
      "outputs": [],
      "source": [
        "# Überprüfe Anzahl pro Klasse"
      ]
    },
    {
      "cell_type": "markdown",
      "metadata": {
        "colab_type": "text",
        "id": "xl3yoRSKjLyI"
      },
      "source": [
        "## Uneinheitliche Einheiten"
      ]
    },
    {
      "cell_type": "code",
      "execution_count": null,
      "metadata": {
        "colab": {
          "base_uri": "https://localhost:8080/",
          "height": 204
        },
        "colab_type": "code",
        "id": "mWbPbS_vjLyI",
        "outputId": "6bfb3578-b3a0-42b8-ec53-bab98dc8fcd7"
      },
      "outputs": [],
      "source": [
        "# Wir schauen noch einmal auf die Daten\n"
      ]
    },
    {
      "cell_type": "code",
      "execution_count": null,
      "metadata": {
        "colab": {
          "base_uri": "https://localhost:8080/",
          "height": 34
        },
        "colab_type": "code",
        "id": "7kdS-krmjLyM",
        "outputId": "c3053938-2a29-43a1-853d-fed1b0f47a02"
      },
      "outputs": [],
      "source": [
        "# Umwandlung von str in Zahl via pandas to_numeric\n"
      ]
    },
    {
      "cell_type": "code",
      "execution_count": null,
      "metadata": {
        "colab": {},
        "colab_type": "code",
        "id": "1wDCqLzzjLyO"
      },
      "outputs": [],
      "source": [
        "# Schreibe eine Hilfsfunktion convert_from_mm, die eine row entgegennimmt"
      ]
    },
    {
      "cell_type": "code",
      "execution_count": null,
      "metadata": {
        "colab": {},
        "colab_type": "code",
        "id": "Fk9oNb3ojLyQ"
      },
      "outputs": [],
      "source": [
        "# Wende Funktion auf Dataframe an"
      ]
    },
    {
      "cell_type": "code",
      "execution_count": null,
      "metadata": {},
      "outputs": [],
      "source": [
        "# Advanced: Nutze pandas str Methoden und zeige Laufzeitvergleich zwischen apply und array-Methoden!"
      ]
    },
    {
      "cell_type": "markdown",
      "metadata": {
        "colab_type": "text",
        "id": "mwjZWAlHjLyV"
      },
      "source": [
        "## Unplausible Daten (Ausreißer)"
      ]
    },
    {
      "cell_type": "code",
      "execution_count": null,
      "metadata": {
        "colab": {
          "base_uri": "https://localhost:8080/",
          "height": 297
        },
        "colab_type": "code",
        "id": "Gx2iAX1vjLyV",
        "outputId": "385c7840-f4d8-4d5c-fc98-a1d7dc4aab62"
      },
      "outputs": [],
      "source": [
        "# Ausgabe der statistischen Auswertung (describe)\n"
      ]
    },
    {
      "cell_type": "code",
      "execution_count": null,
      "metadata": {
        "colab": {
          "base_uri": "https://localhost:8080/",
          "height": 275
        },
        "colab_type": "code",
        "id": "1GayYMSTjLyY",
        "outputId": "f47a20db-ddca-4b75-fda8-612664f2a723"
      },
      "outputs": [],
      "source": [
        "# Ausgabe der statistischen Auswertung pro Klasse\n"
      ]
    },
    {
      "cell_type": "code",
      "execution_count": null,
      "metadata": {
        "colab": {},
        "colab_type": "code",
        "id": "LaFIpiHvjLya"
      },
      "outputs": [],
      "source": [
        "# Ausgabe der Hilfe zu df.hist\n"
      ]
    },
    {
      "cell_type": "code",
      "execution_count": null,
      "metadata": {
        "colab": {
          "base_uri": "https://localhost:8080/",
          "height": 879
        },
        "colab_type": "code",
        "id": "uv6Ja2QCjLyc",
        "outputId": "3ffb5bb3-4dde-4909-86f8-48522936b255"
      },
      "outputs": [],
      "source": [
        "# Erstelle pro Feature ein Histogramm\n",
        "\n",
        "# plt.savefig('ML_0304.png', bbox_inches='tight')"
      ]
    },
    {
      "cell_type": "code",
      "execution_count": null,
      "metadata": {},
      "outputs": [],
      "source": [
        "# Erstelle pro Feature ein Histogramm, diesmal aber ohne den Ausreißer\n"
      ]
    },
    {
      "cell_type": "code",
      "execution_count": null,
      "metadata": {},
      "outputs": [],
      "source": [
        "# Erstelle pro Klasse und Feature ein Histogramm\n"
      ]
    },
    {
      "cell_type": "code",
      "execution_count": null,
      "metadata": {},
      "outputs": [],
      "source": [
        "# Selektiere den Ausreißer in sepal length"
      ]
    },
    {
      "cell_type": "code",
      "execution_count": null,
      "metadata": {},
      "outputs": [],
      "source": [
        "#sns.jointplot?"
      ]
    },
    {
      "cell_type": "code",
      "execution_count": null,
      "metadata": {
        "colab": {
          "base_uri": "https://localhost:8080/",
          "height": 441
        },
        "colab_type": "code",
        "id": "Wgg6UziKjLyg",
        "outputId": "838cbcf5-d02a-4123-f123-938d79058acc"
      },
      "outputs": [],
      "source": [
        "# Visualisiere den Zusammenhang zwischen \"sepal length\" und \"petal length\"\n",
        "\n",
        "# plt.savefig('ML_0305.png', bbox_inches='tight')"
      ]
    },
    {
      "cell_type": "code",
      "execution_count": null,
      "metadata": {},
      "outputs": [],
      "source": [
        "# Bestimme den Korrelationskoeffizienten sowie den p-Wert für den linearen Zusammenhang\n",
        "# Nutze pearsonr von scipy.stats.stats\n"
      ]
    },
    {
      "cell_type": "code",
      "execution_count": null,
      "metadata": {
        "colab": {},
        "colab_type": "code",
        "id": "jfFqr0TvjLyh"
      },
      "outputs": [],
      "source": [
        "# Korrigiere den Ausreißer durch Verschieben des Kommas\n"
      ]
    },
    {
      "cell_type": "code",
      "execution_count": null,
      "metadata": {
        "colab": {
          "base_uri": "https://localhost:8080/",
          "height": 441
        },
        "colab_type": "code",
        "id": "fJWVJVWdjLyj",
        "outputId": "743fff51-3f07-47eb-9220-9cb3f45f773f"
      },
      "outputs": [],
      "source": [
        "# p value:\n",
        "# https://en.wikipedia.org/wiki/P-value\n",
        "# http://www.dummies.com/education/math/statistics/what-a-p-value-tells-you-about-statistical-data/\n",
        "# https://xkcd.com/1478/\n",
        "# Visualisiere erneut den Zusammenhang zwischen den beiden Variablen\n",
        "\n",
        "# plt.savefig('ML_0306.png', bbox_inches='tight')"
      ]
    },
    {
      "cell_type": "code",
      "execution_count": null,
      "metadata": {},
      "outputs": [],
      "source": [
        "# Bestimme erneut den Korrelationskoeffizienten sowie den p-Wert für den linearen Zusammenhang\n",
        "# Nutze pearsonr von scipy.stats.stats"
      ]
    },
    {
      "cell_type": "code",
      "execution_count": null,
      "metadata": {
        "colab": {
          "base_uri": "https://localhost:8080/",
          "height": 269
        },
        "colab_type": "code",
        "id": "IT0WFp4UjLyl",
        "outputId": "73cadf93-9ecd-4470-bc2f-7f802b49bba0"
      },
      "outputs": [],
      "source": [
        "# Erstelle eine Korrelationsmatrix für alle Features\n",
        "# https://en.wikipedia.org/wiki/Pearson_correlation_coefficient\n",
        "# pandas bietet dafür corr()\n",
        "# seaborn kann daraus eine Heatmap mit heatmap() erzeugen\n",
        "\n",
        "# plt.savefig('ML_0307.png', bbox_inches='tight')"
      ]
    },
    {
      "cell_type": "code",
      "execution_count": null,
      "metadata": {
        "colab": {},
        "colab_type": "code",
        "id": "hKI5LjPYjLyo"
      },
      "outputs": [],
      "source": [
        "# Speichere den bereinigten Datensatz als neue CSV ab"
      ]
    },
    {
      "cell_type": "markdown",
      "metadata": {
        "colab_type": "text",
        "id": "xrjwgRicjLyq"
      },
      "source": [
        "## Bonus Level: Mehr nette Visualisierungen"
      ]
    },
    {
      "cell_type": "code",
      "execution_count": null,
      "metadata": {
        "colab": {
          "base_uri": "https://localhost:8080/",
          "height": 348
        },
        "colab_type": "code",
        "id": "RKBMtmmAjLyq",
        "outputId": "a45fdc8b-6e74-473c-eeaa-d686dd4a61c9"
      },
      "outputs": [],
      "source": [
        "# Erstelle einen Boxplot für jede Klasse\n",
        "df.groupby('class').boxplot(figsize=(15,15))"
      ]
    },
    {
      "cell_type": "code",
      "execution_count": null,
      "metadata": {},
      "outputs": [],
      "source": [
        "# mit seaborn\n",
        "sns.catplot(data=df, kind=\"box\", col=\"class\")"
      ]
    },
    {
      "cell_type": "code",
      "execution_count": null,
      "metadata": {
        "colab": {
          "base_uri": "https://localhost:8080/",
          "height": 282
        },
        "colab_type": "code",
        "id": "WA750lSpjLyr",
        "outputId": "221091cc-fef3-47c9-ae14-788a9caa7bee"
      },
      "outputs": [],
      "source": [
        "# Boxplot für den gesamten Datensatz\n",
        "df.boxplot()"
      ]
    },
    {
      "cell_type": "code",
      "execution_count": null,
      "metadata": {
        "colab": {
          "base_uri": "https://localhost:8080/",
          "height": 809
        },
        "colab_type": "code",
        "id": "7y9CUGVIjLyt",
        "outputId": "58cf1e2b-cbd7-4114-e9c3-026445e88d34"
      },
      "outputs": [],
      "source": [
        "df.groupby('class').hist()\n",
        "plt.show()"
      ]
    },
    {
      "cell_type": "code",
      "execution_count": null,
      "metadata": {
        "colab": {
          "base_uri": "https://localhost:8080/",
          "height": 350
        },
        "colab_type": "code",
        "id": "Y01ueNsMjLyu",
        "outputId": "1473b96d-7538-4d64-9431-75c9515d4415"
      },
      "outputs": [],
      "source": [
        "# Histogramm für ein Feature und für alle Klassen\n",
        "df.groupby('class')['sepal length'].hist()"
      ]
    }
  ],
  "metadata": {
    "colab": {
      "include_colab_link": true,
      "name": "kap3.ipynb",
      "provenance": []
    },
    "interpreter": {
      "hash": "3247f7d4635bb288d9e06d3deacee818856115b2677ccfdf5a578edab993fe5f"
    },
    "kernelspec": {
      "display_name": "Python 3.9.7 ('base')",
      "language": "python",
      "name": "python3"
    },
    "language_info": {
      "codemirror_mode": {
        "name": "ipython",
        "version": 3
      },
      "file_extension": ".py",
      "mimetype": "text/x-python",
      "name": "python",
      "nbconvert_exporter": "python",
      "pygments_lexer": "ipython3",
      "version": "3.9.7"
    }
  },
  "nbformat": 4,
  "nbformat_minor": 0
}

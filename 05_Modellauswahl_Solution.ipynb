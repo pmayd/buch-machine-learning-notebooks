{
  "cells": [
    {
      "cell_type": "markdown",
      "metadata": {
        "colab_type": "text",
        "id": "view-in-github"
      },
      "source": [
        "<a href=\"https://colab.research.google.com/github/DJCordhose/buch-machine-learning-notebooks/blob/master/kap6.ipynb\" target=\"_parent\"><img src=\"https://colab.research.google.com/assets/colab-badge.svg\" alt=\"Open In Colab\"/></a>"
      ]
    },
    {
      "cell_type": "markdown",
      "metadata": {
        "colab_type": "text",
        "id": "ByWWJfHio__x"
      },
      "source": [
        "# Kapitel 6: Modellauswahl"
      ]
    },
    {
      "cell_type": "code",
      "execution_count": 1,
      "metadata": {
        "colab": {},
        "colab_type": "code",
        "id": "a3NB_S4Wo__z"
      },
      "outputs": [],
      "source": [
        "import warnings\n",
        "warnings.filterwarnings('ignore')"
      ]
    },
    {
      "cell_type": "code",
      "execution_count": 2,
      "metadata": {
        "colab": {
          "base_uri": "https://localhost:8080/",
          "height": 34
        },
        "colab_type": "code",
        "id": "9G3usm7Mo__3",
        "outputId": "6a6107df-1686-4bad-bcdb-f16ea4bd530e"
      },
      "outputs": [
        {
          "name": "stdout",
          "output_type": "stream",
          "text": [
            "Populating the interactive namespace from numpy and matplotlib\n"
          ]
        }
      ],
      "source": [
        "%matplotlib inline\n",
        "%pylab inline"
      ]
    },
    {
      "cell_type": "code",
      "execution_count": 3,
      "metadata": {
        "colab": {
          "base_uri": "https://localhost:8080/",
          "height": 34
        },
        "colab_type": "code",
        "id": "c2vIQgDWo___",
        "outputId": "7369d83b-dc54-43ce-c079-2f14c9a20c5d"
      },
      "outputs": [
        {
          "name": "stdout",
          "output_type": "stream",
          "text": [
            "1.1.1\n"
          ]
        }
      ],
      "source": [
        "import sklearn\n",
        "print(sklearn.__version__)"
      ]
    },
    {
      "cell_type": "code",
      "execution_count": 4,
      "metadata": {
        "colab": {},
        "colab_type": "code",
        "id": "5t4-2cVYpAAC"
      },
      "outputs": [],
      "source": [
        "import numpy as np"
      ]
    },
    {
      "cell_type": "code",
      "execution_count": 5,
      "metadata": {
        "colab": {},
        "colab_type": "code",
        "id": "imGZeS-SpAAE"
      },
      "outputs": [],
      "source": [
        "import matplotlib.pyplot as plt"
      ]
    },
    {
      "cell_type": "markdown",
      "metadata": {
        "colab_type": "text",
        "id": "MwlKh9VIpAAH"
      },
      "source": [
        "## Accuracy"
      ]
    },
    {
      "cell_type": "code",
      "execution_count": 6,
      "metadata": {
        "colab": {},
        "colab_type": "code",
        "id": "U1wx-UyqpAAH"
      },
      "outputs": [],
      "source": [
        "from sklearn.datasets import load_iris\n",
        "iris = load_iris()\n",
        "X = iris.data\n",
        "y = iris.target"
      ]
    },
    {
      "cell_type": "code",
      "execution_count": 7,
      "metadata": {
        "colab": {},
        "colab_type": "code",
        "id": "JQYwJJhXpAAL"
      },
      "outputs": [],
      "source": [
        "from sklearn.model_selection import train_test_split\n",
        "X_train, X_test, y_train, y_test = train_test_split(X, y, test_size=0.3, random_state=8, stratify=y)"
      ]
    },
    {
      "cell_type": "code",
      "execution_count": 8,
      "metadata": {
        "colab": {
          "base_uri": "https://localhost:8080/",
          "height": 34
        },
        "colab_type": "code",
        "id": "QhpmVtR2pAAO",
        "outputId": "3e3144ea-c29a-4cc0-8608-2a1c0265506d"
      },
      "outputs": [
        {
          "data": {
            "text/plain": [
              "(105, 4)"
            ]
          },
          "execution_count": 8,
          "metadata": {},
          "output_type": "execute_result"
        }
      ],
      "source": [
        "X_train.shape"
      ]
    },
    {
      "cell_type": "code",
      "execution_count": 9,
      "metadata": {
        "colab": {
          "base_uri": "https://localhost:8080/",
          "height": 34
        },
        "colab_type": "code",
        "id": "duzi0BkBpAAR",
        "outputId": "828695c4-6c44-4a3d-d972-2d421d29a650"
      },
      "outputs": [
        {
          "data": {
            "text/plain": [
              "(45, 4)"
            ]
          },
          "execution_count": 9,
          "metadata": {},
          "output_type": "execute_result"
        }
      ],
      "source": [
        "X_test.shape"
      ]
    },
    {
      "cell_type": "code",
      "execution_count": 10,
      "metadata": {
        "colab": {},
        "colab_type": "code",
        "id": "Mvyla-M1pAAU"
      },
      "outputs": [],
      "source": [
        "from sklearn.svm import SVC\n",
        "svc = SVC(kernel='rbf')\n",
        "clf = svc.fit(X_train, y_train)"
      ]
    },
    {
      "cell_type": "code",
      "execution_count": 11,
      "metadata": {
        "colab": {},
        "colab_type": "code",
        "id": "HBVslSbcpAAX"
      },
      "outputs": [],
      "source": [
        "y_pred = clf.predict(X_test)"
      ]
    },
    {
      "cell_type": "code",
      "execution_count": 12,
      "metadata": {
        "colab": {
          "base_uri": "https://localhost:8080/",
          "height": 68
        },
        "colab_type": "code",
        "id": "2JFmClFwpAAZ",
        "outputId": "bd6489f4-6f4f-49cf-8642-be6e4d6f2c4d"
      },
      "outputs": [
        {
          "data": {
            "text/plain": [
              "array([1, 2, 2, 2, 1, 1, 2, 0, 1, 2, 1, 1, 2, 0, 0, 0, 0, 1, 0, 1, 1, 0,\n",
              "       1, 0, 2, 1, 2, 2, 1, 0, 0, 2, 0, 0, 0, 0, 2, 0, 1, 2, 2, 1, 2, 2,\n",
              "       1])"
            ]
          },
          "execution_count": 12,
          "metadata": {},
          "output_type": "execute_result"
        }
      ],
      "source": [
        "y_pred"
      ]
    },
    {
      "cell_type": "code",
      "execution_count": 13,
      "metadata": {
        "colab": {
          "base_uri": "https://localhost:8080/",
          "height": 34
        },
        "colab_type": "code",
        "id": "nxdpwdjnpAAc",
        "outputId": "b0080325-2eee-45c1-a9ca-b1df28d159d6"
      },
      "outputs": [
        {
          "name": "stdout",
          "output_type": "stream",
          "text": [
            "0.9555555555555556\n"
          ]
        }
      ],
      "source": [
        "from sklearn.metrics import accuracy_score\n",
        "print(accuracy_score(y_test, y_pred))"
      ]
    },
    {
      "cell_type": "markdown",
      "metadata": {
        "colab_type": "text",
        "id": "LigHb9oapAAe"
      },
      "source": [
        "## Confusion Matrix"
      ]
    },
    {
      "cell_type": "code",
      "execution_count": 23,
      "metadata": {
        "colab": {
          "base_uri": "https://localhost:8080/",
          "height": 68
        },
        "colab_type": "code",
        "id": "TkZa1UtlpAAf",
        "outputId": "2a65bd5d-7ba8-4a5c-b8ca-d25357f5852c"
      },
      "outputs": [
        {
          "name": "stdout",
          "output_type": "stream",
          "text": [
            "[[15  0  0]\n",
            " [ 0 14  1]\n",
            " [ 0  1 14]]\n"
          ]
        }
      ],
      "source": [
        "from sklearn.metrics import confusion_matrix\n",
        "print(confusion_matrix(y_test, y_pred))"
      ]
    },
    {
      "cell_type": "code",
      "execution_count": 24,
      "metadata": {
        "colab": {
          "base_uri": "https://localhost:8080/",
          "height": 68
        },
        "colab_type": "code",
        "id": "bolBQB2XpAAh",
        "outputId": "72e3c0d1-d8d1-4469-ae95-f862846b5f3a"
      },
      "outputs": [
        {
          "name": "stdout",
          "output_type": "stream",
          "text": [
            "[[1.         0.         0.        ]\n",
            " [0.         0.93333333 0.06666667]\n",
            " [0.         0.06666667 0.93333333]]\n"
          ]
        }
      ],
      "source": [
        "import numpy as np\n",
        "cm = confusion_matrix(y_test, y_pred)\n",
        "cm_norm = cm.astype('float') / cm.sum(axis=1)[:, np.newaxis]\n",
        "print(cm_norm)"
      ]
    },
    {
      "cell_type": "code",
      "execution_count": 33,
      "metadata": {
        "colab": {
          "base_uri": "https://localhost:8080/",
          "height": 300
        },
        "colab_type": "code",
        "id": "q_tKAnWDpAAk",
        "outputId": "55e3be04-73f4-474c-f001-0d86353d7c6f"
      },
      "outputs": [
        {
          "data": {
            "text/plain": [
              "Text(51.0, 0.5, 'Ground Truth')"
            ]
          },
          "execution_count": 33,
          "metadata": {},
          "output_type": "execute_result"
        },
        {
          "data": {
            "image/png": "[encoded data removed]",
            "text/plain": [
              "<Figure size 576x432 with 2 Axes>"
            ]
          },
          "metadata": {
            "needs_background": "light"
          },
          "output_type": "display_data"
        }
      ],
      "source": [
        "import seaborn as sns\n",
        "fig = plt.figure(figsize=(8,6))\n",
        "ax = fig.add_subplot(111)\n",
        "sns.heatmap(cm_norm, annot=True, cmap=\"YlGnBu\", ax=ax)\n",
        "ax.set_xlabel('Prediction')\n",
        "ax.set_ylabel('Ground Truth')"
      ]
    },
    {
      "cell_type": "markdown",
      "metadata": {
        "colab_type": "text",
        "id": "JK1q-bmRpAAo"
      },
      "source": [
        "## Precision-Recall"
      ]
    },
    {
      "cell_type": "code",
      "execution_count": 34,
      "metadata": {
        "colab": {
          "base_uri": "https://localhost:8080/",
          "height": 442
        },
        "colab_type": "code",
        "id": "V_Ws0Tj1pAAp",
        "outputId": "b5028ffa-b985-4f45-c5c6-b96758dc314b"
      },
      "outputs": [
        {
          "data": {
            "image/png": "[encoded data removed]",
            "text/plain": [
              "<Figure size 648x504 with 1 Axes>"
            ]
          },
          "metadata": {
            "needs_background": "light"
          },
          "output_type": "display_data"
        }
      ],
      "source": [
        "import numpy as np\n",
        "import matplotlib.pyplot as plt\n",
        "\n",
        "from sklearn.datasets import load_iris\n",
        "from sklearn.svm import SVC\n",
        "from sklearn.model_selection import train_test_split\n",
        "from sklearn.multiclass import OneVsRestClassifier\n",
        "from sklearn.preprocessing import label_binarize\n",
        "from sklearn.metrics import precision_recall_curve\n",
        "from sklearn.metrics import average_precision_score\n",
        "\n",
        "colors = ['blue', 'orange', 'red']\n",
        "\n",
        "iris = load_iris()\n",
        "\n",
        "X = iris.data\n",
        "y = iris.target\n",
        "\n",
        "y = label_binarize(y, classes=[0, 1, 2])\n",
        "n_classes = y.shape[1]\n",
        "\n",
        "#random_state = np.random.RandomState(0)\n",
        "#n_samples, n_features = X.shape\n",
        "#X = np.c_[X, random_state.randn(n_samples, 500 * n_features)]\n",
        "\n",
        "#____________________________________________________________________\n",
        "# training test splitting\n",
        "X_train, X_test, y_train, y_test = train_test_split(X, y, test_size=0.5, random_state=19)\n",
        "\n",
        "\n",
        "one_vs_rest = OneVsRestClassifier(SVC(kernel='rbf', C=10, gamma=100, probability=True, random_state=12))\n",
        "y_score = one_vs_rest.fit(X_train, y_train).decision_function(X_test)\n",
        "y_true, y_pred = y_test, one_vs_rest.predict(X_test)\n",
        "\n",
        "precision = dict()\n",
        "recall = dict()\n",
        "average_precision = dict()\n",
        "for i in range(n_classes):\n",
        "    precision[i], recall[i], _ = precision_recall_curve(y_true[:, i],\n",
        "                                                        y_score[:, i])\n",
        "    average_precision[i] = average_precision_score(y_test[:, i], y_score[:, i])\n",
        "\n",
        "#____________________________________________________________________\n",
        "# Plot Precision-Recall curve for each class\n",
        "fig = plt.figure(1, figsize=(9, 7))\n",
        "plt.clf()\n",
        "for i, color in zip(range(n_classes), colors):\n",
        "    plt.plot(recall[i], precision[i], color=color, lw=2,\n",
        "             label='Precision-recall curve of {0} (area = {1:0.3f})'\n",
        "                   ''.format(iris.target_names[i], average_precision[i]))\n",
        "\n",
        "plt.xlim([0.0, 1.0])\n",
        "plt.ylim([0.0, 1.05])\n",
        "plt.xlabel('recall')\n",
        "plt.ylabel('precision')\n",
        "plt.legend(loc=\"lower right\")\n",
        "plt.show()\n",
        "# fig.savefig('ML_0604.png', bbox_inches='tight')\n",
        "# plt.clf()"
      ]
    },
    {
      "cell_type": "code",
      "execution_count": 35,
      "metadata": {
        "colab": {
          "base_uri": "https://localhost:8080/",
          "height": 187
        },
        "colab_type": "code",
        "id": "refxJvEDpAAr",
        "outputId": "0bbfaa87-47e3-489c-a31f-10bc6af02ee3"
      },
      "outputs": [
        {
          "name": "stdout",
          "output_type": "stream",
          "text": [
            "              precision    recall  f1-score   support\n",
            "\n",
            "      setosa      1.000     1.000     1.000        15\n",
            "  versicolor      0.933     0.933     0.933        15\n",
            "   virginica      0.933     0.933     0.933        15\n",
            "\n",
            "    accuracy                          0.956        45\n",
            "   macro avg      0.956     0.956     0.956        45\n",
            "weighted avg      0.956     0.956     0.956        45\n",
            "\n"
          ]
        }
      ],
      "source": [
        "from sklearn.metrics import classification_report\n",
        "\n",
        "iris = load_iris()\n",
        "X = iris.data\n",
        "y = iris.target\n",
        "\n",
        "X_train, X_test, y_train, y_test = train_test_split(X, y, test_size=0.3, random_state=42, stratify=y)\n",
        "\n",
        "svc = SVC(kernel='rbf', C=1, gamma=1)\n",
        "clf = svc.fit(X_train, y_train)\n",
        "y_true, y_pred = y_test, clf.predict(X_test)\n",
        "\n",
        "print(classification_report(y_true, y_pred, digits=3, target_names=iris.target_names))"
      ]
    },
    {
      "cell_type": "markdown",
      "metadata": {
        "colab_type": "text",
        "id": "SOrSOWJXpAAt"
      },
      "source": [
        "## Receiver Operating Characteristic (ROC) Kurve"
      ]
    },
    {
      "cell_type": "code",
      "execution_count": 36,
      "metadata": {
        "colab": {
          "base_uri": "https://localhost:8080/",
          "height": 442
        },
        "colab_type": "code",
        "id": "UX8tJjJppAAu",
        "outputId": "dfbff735-a924-4e57-edb1-8717045716ad"
      },
      "outputs": [
        {
          "data": {
            "image/png": "[encoded data removed]",
            "text/plain": [
              "<Figure size 648x504 with 1 Axes>"
            ]
          },
          "metadata": {
            "needs_background": "light"
          },
          "output_type": "display_data"
        }
      ],
      "source": [
        "from sklearn.datasets import load_iris\n",
        "from sklearn.svm import SVC\n",
        "from sklearn.model_selection import train_test_split\n",
        "from sklearn.multiclass import OneVsRestClassifier\n",
        "from sklearn.preprocessing import label_binarize\n",
        "from sklearn.metrics import roc_curve, auc\n",
        "\n",
        "from scipy import interp\n",
        "\n",
        "colors = ['blue', 'orange', 'red']\n",
        "\n",
        "iris = load_iris()\n",
        "\n",
        "X = iris.data\n",
        "y = iris.target\n",
        "\n",
        "y = label_binarize(y, classes=[0, 1, 2])\n",
        "n_classes = y.shape[1]\n",
        "\n",
        "#random_state = np.random.RandomState(0)\n",
        "#n_samples, n_features = X.shape\n",
        "#X = np.c_[X, random_state.randn(n_samples, 500 * n_features)]\n",
        "\n",
        "#____________________________________________________________________\n",
        "# training test splitting\n",
        "X_train, X_test, y_train, y_test = train_test_split(X, y, test_size=0.5, random_state=19)\n",
        "\n",
        "one_vs_rest = OneVsRestClassifier(SVC(kernel='rbf', C=10, gamma=100, probability=True, random_state=12))\n",
        "y_score = one_vs_rest.fit(X_train, y_train).decision_function(X_test)\n",
        "y_true, y_pred = y_test, one_vs_rest.predict(X_test)\n",
        "\n",
        "fpr = dict()\n",
        "tpr = dict()\n",
        "roc_auc = dict()\n",
        "for i in range(n_classes):\n",
        "    fpr[i], tpr[i], _ = roc_curve(y_true[:, i], y_score[:, i])\n",
        "    roc_auc[i] = auc(fpr[i], tpr[i])\n",
        "\n",
        "#____________________________________________________________________\n",
        "# Plot Precision-Recall curve for each class\n",
        "fig = plt.figure(1, figsize=(9, 7))\n",
        "plt.clf()\n",
        "for i, color in zip(range(n_classes), colors):\n",
        "    plt.plot(fpr[i], tpr[i], color=color, lw=2,\n",
        "             label='ROC curve of {0} (area = {1:0.3f})'\n",
        "                   ''.format(iris.target_names[i], roc_auc[i]))\n",
        "\n",
        "plt.xlim([0.0, 1.0])\n",
        "plt.ylim([0.0, 1.05])\n",
        "plt.xlabel('false positive rate')\n",
        "plt.ylabel('true positive rate')\n",
        "plt.legend(loc=\"lower right\")\n",
        "plt.show()\n",
        "# fig.savefig('ML_0603.png', bbox_inches='tight')\n",
        "# plt.clf()"
      ]
    },
    {
      "cell_type": "markdown",
      "metadata": {
        "colab_type": "text",
        "id": "uIbRv1W7pAAx"
      },
      "source": [
        "## Metrik für Regression"
      ]
    },
    {
      "cell_type": "code",
      "execution_count": 37,
      "metadata": {
        "colab": {
          "base_uri": "https://localhost:8080/",
          "height": 34
        },
        "colab_type": "code",
        "id": "n0kZzTLapAAy",
        "outputId": "0e09b390-a0c4-4a29-a908-03962011112c"
      },
      "outputs": [
        {
          "data": {
            "text/html": [
              "<style>#sk-container-id-1 {color: black;background-color: white;}#sk-container-id-1 pre{padding: 0;}#sk-container-id-1 div.sk-toggleable {background-color: white;}#sk-container-id-1 label.sk-toggleable__label {cursor: pointer;display: block;width: 100%;margin-bottom: 0;padding: 0.3em;box-sizing: border-box;text-align: center;}#sk-container-id-1 label.sk-toggleable__label-arrow:before {content: \"▸\";float: left;margin-right: 0.25em;color: #696969;}#sk-container-id-1 label.sk-toggleable__label-arrow:hover:before {color: black;}#sk-container-id-1 div.sk-estimator:hover label.sk-toggleable__label-arrow:before {color: black;}#sk-container-id-1 div.sk-toggleable__content {max-height: 0;max-width: 0;overflow: hidden;text-align: left;background-color: #f0f8ff;}#sk-container-id-1 div.sk-toggleable__content pre {margin: 0.2em;color: black;border-radius: 0.25em;background-color: #f0f8ff;}#sk-container-id-1 input.sk-toggleable__control:checked~div.sk-toggleable__content {max-height: 200px;max-width: 100%;overflow: auto;}#sk-container-id-1 input.sk-toggleable__control:checked~label.sk-toggleable__label-arrow:before {content: \"▾\";}#sk-container-id-1 div.sk-estimator input.sk-toggleable__control:checked~label.sk-toggleable__label {background-color: #d4ebff;}#sk-container-id-1 div.sk-label input.sk-toggleable__control:checked~label.sk-toggleable__label {background-color: #d4ebff;}#sk-container-id-1 input.sk-hidden--visually {border: 0;clip: rect(1px 1px 1px 1px);clip: rect(1px, 1px, 1px, 1px);height: 1px;margin: -1px;overflow: hidden;padding: 0;position: absolute;width: 1px;}#sk-container-id-1 div.sk-estimator {font-family: monospace;background-color: #f0f8ff;border: 1px dotted black;border-radius: 0.25em;box-sizing: border-box;margin-bottom: 0.5em;}#sk-container-id-1 div.sk-estimator:hover {background-color: #d4ebff;}#sk-container-id-1 div.sk-parallel-item::after {content: \"\";width: 100%;border-bottom: 1px solid gray;flex-grow: 1;}#sk-container-id-1 div.sk-label:hover label.sk-toggleable__label {background-color: #d4ebff;}#sk-container-id-1 div.sk-serial::before {content: \"\";position: absolute;border-left: 1px solid gray;box-sizing: border-box;top: 0;bottom: 0;left: 50%;z-index: 0;}#sk-container-id-1 div.sk-serial {display: flex;flex-direction: column;align-items: center;background-color: white;padding-right: 0.2em;padding-left: 0.2em;position: relative;}#sk-container-id-1 div.sk-item {position: relative;z-index: 1;}#sk-container-id-1 div.sk-parallel {display: flex;align-items: stretch;justify-content: center;background-color: white;position: relative;}#sk-container-id-1 div.sk-item::before, #sk-container-id-1 div.sk-parallel-item::before {content: \"\";position: absolute;border-left: 1px solid gray;box-sizing: border-box;top: 0;bottom: 0;left: 50%;z-index: -1;}#sk-container-id-1 div.sk-parallel-item {display: flex;flex-direction: column;z-index: 1;position: relative;background-color: white;}#sk-container-id-1 div.sk-parallel-item:first-child::after {align-self: flex-end;width: 50%;}#sk-container-id-1 div.sk-parallel-item:last-child::after {align-self: flex-start;width: 50%;}#sk-container-id-1 div.sk-parallel-item:only-child::after {width: 0;}#sk-container-id-1 div.sk-dashed-wrapped {border: 1px dashed gray;margin: 0 0.4em 0.5em 0.4em;box-sizing: border-box;padding-bottom: 0.4em;background-color: white;}#sk-container-id-1 div.sk-label label {font-family: monospace;font-weight: bold;display: inline-block;line-height: 1.2em;}#sk-container-id-1 div.sk-label-container {text-align: center;}#sk-container-id-1 div.sk-container {/* jupyter's `normalize.less` sets `[hidden] { display: none; }` but bootstrap.min.css set `[hidden] { display: none !important; }` so we also need the `!important` here to be able to override the default hidden behavior on the sphinx rendered scikit-learn.org. See: https://github.com/scikit-learn/scikit-learn/issues/21755 */display: inline-block !important;position: relative;}#sk-container-id-1 div.sk-text-repr-fallback {display: none;}</style><div id=\"sk-container-id-1\" class=\"sk-top-container\"><div class=\"sk-text-repr-fallback\"><pre>LinearRegression()</pre><b>In a Jupyter environment, please rerun this cell to show the HTML representation or trust the notebook. <br />On GitHub, the HTML representation is unable to render, please try loading this page with nbviewer.org.</b></div><div class=\"sk-container\" hidden><div class=\"sk-item\"><div class=\"sk-estimator sk-toggleable\"><input class=\"sk-toggleable__control sk-hidden--visually\" id=\"sk-estimator-id-1\" type=\"checkbox\" checked><label for=\"sk-estimator-id-1\" class=\"sk-toggleable__label sk-toggleable__label-arrow\">LinearRegression</label><div class=\"sk-toggleable__content\"><pre>LinearRegression()</pre></div></div></div></div></div>"
            ],
            "text/plain": [
              "LinearRegression()"
            ]
          },
          "execution_count": 37,
          "metadata": {},
          "output_type": "execute_result"
        }
      ],
      "source": [
        "import sklearn.datasets as data\n",
        "import sklearn.linear_model as lm\n",
        "from sklearn.model_selection import train_test_split\n",
        "\n",
        "boston = data.load_boston()\n",
        "X = boston.data[:,5:6]\n",
        "y = boston.target\n",
        "\n",
        "X_train, X_test, y_train, y_test = train_test_split(X, y, test_size=0.3, random_state=112)\n",
        "\n",
        "lr = lm.LinearRegression()\n",
        "lr.fit(X_train, y_train)"
      ]
    },
    {
      "cell_type": "code",
      "execution_count": 38,
      "metadata": {
        "colab": {},
        "colab_type": "code",
        "id": "cP0xks2upAA0"
      },
      "outputs": [],
      "source": [
        "y_pred = lr.predict(X_test)"
      ]
    },
    {
      "cell_type": "code",
      "execution_count": 39,
      "metadata": {
        "colab": {},
        "colab_type": "code",
        "id": "2Y6EbCUEpAA3"
      },
      "outputs": [],
      "source": [
        "from sklearn.metrics import mean_squared_error, mean_absolute_error, median_absolute_error, r2_score"
      ]
    },
    {
      "cell_type": "code",
      "execution_count": 40,
      "metadata": {
        "colab": {
          "base_uri": "https://localhost:8080/",
          "height": 85
        },
        "colab_type": "code",
        "id": "Pjm4pLjvpAA5",
        "outputId": "c3374693-a657-48a7-e740-c4f3633d276a"
      },
      "outputs": [
        {
          "name": "stdout",
          "output_type": "stream",
          "text": [
            "48.20396841106558\n",
            "4.7069613412271085\n",
            "2.885121509334832\n",
            "0.42203569171371\n"
          ]
        }
      ],
      "source": [
        "print(mean_squared_error(y_test, y_pred))\n",
        "print(mean_absolute_error(y_test, y_pred))\n",
        "print(median_absolute_error(y_test, y_pred))\n",
        "print(r2_score(y_test, y_pred))"
      ]
    },
    {
      "cell_type": "code",
      "execution_count": 41,
      "metadata": {
        "colab": {},
        "colab_type": "code",
        "id": "9A4bgzjVpAA7"
      },
      "outputs": [],
      "source": [
        "y_train_pred = lr.predict(X_train)"
      ]
    },
    {
      "cell_type": "code",
      "execution_count": 42,
      "metadata": {
        "colab": {
          "base_uri": "https://localhost:8080/",
          "height": 85
        },
        "colab_type": "code",
        "id": "aEN_iNDbpAA-",
        "outputId": "b385ea16-25ea-4767-9f23-484a90823993"
      },
      "outputs": [
        {
          "name": "stdout",
          "output_type": "stream",
          "text": [
            "41.65102010776919\n",
            "4.329310287661524\n",
            "2.8606587005308484\n",
            "0.5089684947687655\n"
          ]
        }
      ],
      "source": [
        "print(mean_squared_error(y_train, y_train_pred))\n",
        "print(mean_absolute_error(y_train, y_train_pred))\n",
        "print(median_absolute_error(y_train, y_train_pred))\n",
        "print(r2_score(y_train, y_train_pred))"
      ]
    },
    {
      "cell_type": "markdown",
      "metadata": {
        "colab_type": "text",
        "id": "PNvS7c6ypABB"
      },
      "source": [
        "## Validation"
      ]
    },
    {
      "cell_type": "code",
      "execution_count": 43,
      "metadata": {
        "colab": {},
        "colab_type": "code",
        "id": "iBtsjRfSpABB"
      },
      "outputs": [],
      "source": [
        "iris = load_iris()\n",
        "\n",
        "X = iris.data\n",
        "y = iris.target\n",
        "svc = SVC(kernel='rbf', C=1, gamma=1)\n",
        "\n",
        "X_train, X_test, y_train, y_test = train_test_split(X, y, test_size=0.3, random_state=12)\n",
        "X_train, X_val, y_train, y_val = train_test_split(X_train, y_train, test_size=0.3, random_state=12)"
      ]
    },
    {
      "cell_type": "code",
      "execution_count": 44,
      "metadata": {
        "colab": {
          "base_uri": "https://localhost:8080/",
          "height": 446
        },
        "colab_type": "code",
        "id": "wxplEnGVpABE",
        "outputId": "58868d44-40a6-4b7d-fe4f-39e8622e1813"
      },
      "outputs": [
        {
          "data": {
            "image/png": "[encoded data removed]",
            "text/plain": [
              "<Figure size 648x504 with 1 Axes>"
            ]
          },
          "metadata": {
            "needs_background": "light"
          },
          "output_type": "display_data"
        }
      ],
      "source": [
        "fig = plt.figure(1, figsize=(9, 7))\n",
        "ax = fig.add_subplot(111)\n",
        "\n",
        "param_range = np.logspace(-3, 2, 200)\n",
        "train_scores, val_scores = [], []\n",
        "for g in param_range:\n",
        "    svc = SVC(kernel='rbf', C=1, gamma=g)\n",
        "    clf = svc.fit(X_train, y_train)\n",
        "    train_scores.append(clf.score(X_train, y_train))\n",
        "    val_scores.append(clf.score(X_val, y_val))\n",
        "best_param = param_range[np.argmax(val_scores)]\n",
        "\n",
        "plt.plot(param_range, train_scores, label=\"training sample\", color=\"b\", lw=2)\n",
        "plt.plot(param_range, val_scores, label=\"validation sample\", color=\"r\", lw=2)\n",
        "\n",
        "ax.set_xscale( \"log\" )\n",
        "plt.xlabel(\"gamma\")\n",
        "plt.ylabel(\"accuracy\")\n",
        "plt.axis(\"tight\")\n",
        "plt.legend(loc='center')\n",
        "\n",
        "plt.show()\n",
        "# fig.savefig('ML_0601.png', bbox_inches='tight')\n",
        "# plt.clf()"
      ]
    },
    {
      "cell_type": "code",
      "execution_count": 45,
      "metadata": {
        "colab": {
          "base_uri": "https://localhost:8080/",
          "height": 34
        },
        "colab_type": "code",
        "id": "ZSW_LbtJpABH",
        "outputId": "6a9f1039-c1db-43ae-a845-6f80fe952194"
      },
      "outputs": [
        {
          "name": "stdout",
          "output_type": "stream",
          "text": [
            "Best gamma value: 0.038274944785163134\n"
          ]
        }
      ],
      "source": [
        "best_param = param_range[np.argmax(val_scores)]\n",
        "print(\"Best gamma value:\", best_param)"
      ]
    },
    {
      "cell_type": "code",
      "execution_count": 46,
      "metadata": {
        "colab": {
          "base_uri": "https://localhost:8080/",
          "height": 68
        },
        "colab_type": "code",
        "id": "8LDcduB-pABK",
        "outputId": "85cc251b-355c-4ac8-c58e-992769ac4fdc"
      },
      "outputs": [
        {
          "name": "stdout",
          "output_type": "stream",
          "text": [
            "Best train accuracy: 0.9726027397260274\n",
            "Best val accuracy: 0.96875\n",
            "Best test accuracy: 0.9555555555555556\n"
          ]
        }
      ],
      "source": [
        "svc = SVC(kernel='rbf', C=1, gamma=best_param)\n",
        "clf = svc.fit(X_train, y_train)\n",
        "print(\"Best train accuracy:\", clf.score(X_train, y_train))\n",
        "print(\"Best val accuracy:\", clf.score(X_val, y_val))\n",
        "print(\"Best test accuracy:\", clf.score(X_test, y_test))"
      ]
    },
    {
      "cell_type": "markdown",
      "metadata": {
        "colab_type": "text",
        "id": "N_oHbm8hpABL"
      },
      "source": [
        "## Cross Validation"
      ]
    },
    {
      "cell_type": "code",
      "execution_count": 47,
      "metadata": {
        "colab": {
          "base_uri": "https://localhost:8080/",
          "height": 548
        },
        "colab_type": "code",
        "id": "Xhkvx9n6pABM",
        "outputId": "faf6e283-3190-4550-e06b-e652e8487396"
      },
      "outputs": [
        {
          "name": "stdout",
          "output_type": "stream",
          "text": [
            "Train accuracy: 0.981 +/- 0.047\n",
            "Cross validation accuracy: 0.988 +/- 0.031\n"
          ]
        },
        {
          "data": {
            "image/png": "[encoded data removed]",
            "text/plain": [
              "<Figure size 648x504 with 1 Axes>"
            ]
          },
          "metadata": {
            "needs_background": "light"
          },
          "output_type": "display_data"
        },
        {
          "name": "stdout",
          "output_type": "stream",
          "text": [
            "Best gamma value: 0.08119844993184012\n",
            "Best train accuracy: 0.9714285714285714\n",
            "Best xval accuracy: 0.99375 +/- 0.012499999999999999\n",
            "Best test accuracy: 0.9777777777777777\n"
          ]
        }
      ],
      "source": [
        "import numpy as np\n",
        "import matplotlib.pyplot as plt\n",
        "\n",
        "from sklearn.datasets import load_iris\n",
        "from sklearn.svm import SVC\n",
        "from sklearn.model_selection import train_test_split\n",
        "from sklearn.model_selection import cross_val_score\n",
        "\n",
        "iris = load_iris()\n",
        "\n",
        "X = iris.data\n",
        "y = iris.target\n",
        "clf = SVC(kernel='rbf', C=1, gamma=1)\n",
        "\n",
        "#print(X.shape, y.shape)\n",
        "#print(len(X), len(y))\n",
        "\n",
        "#____________________________________________________________________\n",
        "# training test splitting\n",
        "X_train, X_test, y_train, y_test = train_test_split(X, y, test_size=0.3, random_state=12)\n",
        "\n",
        "\n",
        "#____________________________________________________________________\n",
        "scores = cross_val_score(clf, X_train, y_train, cv=5)\n",
        "print(\"Train accuracy: %0.3f +/- %0.3f\" % (scores.mean(), scores.std() * 2))\n",
        "\n",
        "\n",
        "from sklearn.model_selection import ShuffleSplit\n",
        "cv = ShuffleSplit(n_splits=5, test_size=0.3, random_state=21)\n",
        "scores = cross_val_score(clf, X_train, y_train, cv=cv)\n",
        "print(\"Cross validation accuracy: %0.3f +/- %0.3f\" % (scores.mean(), scores.std() * 2))\n",
        "\n",
        "#____________________________________________________________________\n",
        "# validation plot\n",
        "fig = plt.figure(1, figsize=(9, 7))\n",
        "ax = fig.add_subplot(111)\n",
        "\n",
        "param_range = np.logspace(-3, 2, 200)\n",
        "train_scores, xval_scores_mean, xval_scores_std = [], [], []\n",
        "for g in param_range:\n",
        "    svc = SVC(kernel='rbf', C=1, gamma=g)\n",
        "    clf = svc.fit(X_train, y_train)\n",
        "    train_scores.append(clf.score(X_train, y_train))\n",
        "    xval_scores_mean.append(cross_val_score(clf, X_train, y_train, cv=cv).mean())\n",
        "    xval_scores_std.append(cross_val_score(clf, X_train, y_train, cv=cv).std())\n",
        "xval_scores_mean = np.array(xval_scores_mean)\n",
        "xval_scores_std = np.array(xval_scores_std)\n",
        "\n",
        "best_param = param_range[np.argmax(xval_scores_mean)]\n",
        "best_param_id = np.argmax(xval_scores_mean)\n",
        "\n",
        "ax.plot(param_range, train_scores, label=\"training sample\", color=\"b\", lw=2)\n",
        "ax.plot(param_range, xval_scores_mean, label=\"cross validation\", color=\"r\", lw=2)\n",
        "\n",
        "plt.fill_between(param_range, xval_scores_mean - xval_scores_std,\n",
        "                 xval_scores_mean + xval_scores_std, alpha=0.2, color=\"r\")\n",
        "\n",
        "ax.set_xscale( \"log\" )\n",
        "\n",
        "plt.xlabel(\"gamma\")\n",
        "plt.ylabel(\"accuracy\")\n",
        "plt.axis(\"tight\")\n",
        "plt.legend(loc='center')\n",
        "\n",
        "plt.show()\n",
        "# fig.savefig('ML_0602.png', bbox_inches='tight')\n",
        "# plt.clf()\n",
        "\n",
        "#____________________________________________________________________\n",
        "# best param\n",
        "print(\"Best gamma value:\", best_param)\n",
        "svc = SVC(kernel='rbf', C=1, gamma=best_param)\n",
        "clf = svc.fit(X_train, y_train)\n",
        "print(\"Best train accuracy:\", clf.score(X_train, y_train))\n",
        "print(\"Best xval accuracy:\", xval_scores_mean[best_param_id],\"+/-\", xval_scores_std[best_param_id])\n",
        "\n",
        "#____________________________________________________________________\n",
        "# test score\n",
        "print(\"Best test accuracy:\", clf.score(X_test, y_test))"
      ]
    },
    {
      "cell_type": "markdown",
      "metadata": {
        "colab_type": "text",
        "id": "tW8CtAHypABO"
      },
      "source": [
        "## Grid-Suche"
      ]
    },
    {
      "cell_type": "code",
      "execution_count": 48,
      "metadata": {
        "colab": {},
        "colab_type": "code",
        "id": "qw92frhypABP"
      },
      "outputs": [],
      "source": [
        "# GridSearchCV?"
      ]
    },
    {
      "cell_type": "code",
      "execution_count": 49,
      "metadata": {
        "colab": {
          "base_uri": "https://localhost:8080/",
          "height": 51
        },
        "colab_type": "code",
        "id": "42ElT9hbpABS",
        "outputId": "d20658f5-7bc6-4052-db08-83ac0d5c61d1"
      },
      "outputs": [
        {
          "name": "stdout",
          "output_type": "stream",
          "text": [
            "Best parameters: {'C': 1, 'gamma': 0.1, 'kernel': 'rbf'}\n",
            "Best score: 0.980952380952381\n"
          ]
        }
      ],
      "source": [
        "from sklearn.model_selection import GridSearchCV\n",
        "\n",
        "X_train, X_test, y_train, y_test = train_test_split(X, y, test_size=0.3, random_state=12)\n",
        "\n",
        "grid_params = [ {'kernel': ['linear'], \n",
        "\t\t\t\t\t\t\t\t  'C': [0.1, 1, 10, 100, 1000]},\n",
        "                {'kernel': ['rbf'],\n",
        "                 'gamma': [1E-3, 1E-2, 1E-1, 1E0, 1E1],\n",
        "                 'C': [0.1, 1, 10, 100]}\n",
        "              ]\n",
        "clf = GridSearchCV(SVC(), grid_params, cv=5)\n",
        "clf.fit(X_train, y_train)\n",
        "\n",
        "print(\"Best parameters:\",clf.best_params_)\n",
        "print(\"Best score:\",clf.best_score_)"
      ]
    },
    {
      "cell_type": "markdown",
      "metadata": {
        "colab_type": "text",
        "id": "tr-TDXCrpABU"
      },
      "source": [
        "## Zufallssuche"
      ]
    },
    {
      "cell_type": "code",
      "execution_count": 50,
      "metadata": {
        "colab": {
          "base_uri": "https://localhost:8080/",
          "height": 51
        },
        "colab_type": "code",
        "id": "0vSLASAmpABV",
        "outputId": "ff70c9b4-9d68-47eb-b5c8-4c71a104e32c"
      },
      "outputs": [
        {
          "name": "stdout",
          "output_type": "stream",
          "text": [
            "Best parameters: {'C': 0.6480574028240825, 'gamma': 0.8276773821752682, 'kernel': 'rbf'}\n",
            "Best score: 0.980952380952381\n"
          ]
        }
      ],
      "source": [
        "from sklearn.model_selection import RandomizedSearchCV\n",
        "from scipy.stats import uniform\n",
        "\n",
        "rand_params = {'kernel': ['rbf'],\n",
        "               'gamma': uniform(1E-2, 1E0),\n",
        "               'C': uniform(0.1, 10)\n",
        "               }\n",
        "clf = RandomizedSearchCV(SVC(), rand_params, cv=5, n_iter=1000, random_state=112)\n",
        "clf.fit(X_train, y_train)\n",
        "\n",
        "print(\"Best parameters:\",clf.best_params_)\n",
        "print(\"Best score:\",clf.best_score_)"
      ]
    },
    {
      "cell_type": "code",
      "execution_count": 33,
      "metadata": {
        "colab": {},
        "colab_type": "code",
        "id": "LbYupHy8pABY"
      },
      "outputs": [],
      "source": []
    }
  ],
  "metadata": {
    "colab": {
      "include_colab_link": true,
      "name": "kap6.ipynb",
      "provenance": []
    },
    "interpreter": {
      "hash": "3247f7d4635bb288d9e06d3deacee818856115b2677ccfdf5a578edab993fe5f"
    },
    "kernelspec": {
      "display_name": "Python 3.9.7 ('base')",
      "language": "python",
      "name": "python3"
    },
    "language_info": {
      "codemirror_mode": {
        "name": "ipython",
        "version": 3
      },
      "file_extension": ".py",
      "mimetype": "text/x-python",
      "name": "python",
      "nbconvert_exporter": "python",
      "pygments_lexer": "ipython3",
      "version": "3.9.7"
    }
  },
  "nbformat": 4,
  "nbformat_minor": 0
}

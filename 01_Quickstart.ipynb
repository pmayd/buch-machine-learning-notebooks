{
  "cells": [
    {
      "cell_type": "markdown",
      "metadata": {
        "colab_type": "text",
        "id": "view-in-github"
      },
      "source": [
        "<a href=\"https://colab.research.google.com/github/DJCordhose/buch-machine-learning-notebooks/blob/master/kap2.ipynb\" target=\"_parent\"><img src=\"https://colab.research.google.com/assets/colab-badge.svg\" alt=\"Open In Colab\"/></a>"
      ]
    },
    {
      "cell_type": "markdown",
      "metadata": {
        "colab_type": "text",
        "id": "yJ2zzYGxh5R4"
      },
      "source": [
        "# Kapitel 2: Einführung in Machine Learning - Schnelldurchgang"
      ]
    },
    {
      "cell_type": "code",
      "execution_count": null,
      "metadata": {
        "colab": {},
        "colab_type": "code",
        "id": "iRA-vO-4h5R4",
        "trusted": false
      },
      "outputs": [],
      "source": [
        "import warnings\n",
        "warnings.filterwarnings('ignore')"
      ]
    },
    {
      "cell_type": "code",
      "execution_count": null,
      "metadata": {
        "colab": {
          "base_uri": "https://localhost:8080/",
          "height": 34
        },
        "colab_type": "code",
        "id": "k6hArp6Xh5R8",
        "outputId": "6fe188ed-dacb-45c4-e03e-a27839145cc0",
        "trusted": false
      },
      "outputs": [],
      "source": [
        "%matplotlib inline\n",
        "%pylab inline"
      ]
    },
    {
      "cell_type": "code",
      "execution_count": null,
      "metadata": {
        "colab": {},
        "colab_type": "code",
        "id": "hEj2QxI7h5R_",
        "trusted": false
      },
      "outputs": [],
      "source": [
        "import matplotlib.pylab as plt\n",
        "import numpy as np\n",
        "import seaborn as sns\n",
        "\n",
        "sns.set_theme(\"notebook\", \"whitegrid\")"
      ]
    },
    {
      "cell_type": "code",
      "execution_count": null,
      "metadata": {
        "colab": {
          "base_uri": "https://localhost:8080/",
          "height": 34
        },
        "colab_type": "code",
        "id": "cz-aoJ07h5SE",
        "outputId": "9ac8c458-aca3-4b38-96c0-b495c1ab7375",
        "trusted": false
      },
      "outputs": [],
      "source": [
        "import sklearn\n",
        "print(sklearn.__version__)"
      ]
    },
    {
      "cell_type": "markdown",
      "metadata": {
        "colab_type": "text",
        "id": "xd9-n2YPh5SH"
      },
      "source": [
        "## Datensatz Irisblüten\n",
        "https://de.wikipedia.org/wiki/Portal:Statistik/Datensaetze#Iris"
      ]
    },
    {
      "cell_type": "code",
      "execution_count": null,
      "metadata": {
        "colab": {},
        "colab_type": "code",
        "id": "kIgspd1Eh5SH",
        "trusted": false
      },
      "outputs": [],
      "source": [
        "# Importieren von load_iris aus sklearn.dataset\n"
      ]
    },
    {
      "cell_type": "code",
      "execution_count": null,
      "metadata": {
        "colab": {
          "base_uri": "https://localhost:8080/",
          "height": 1000
        },
        "colab_type": "code",
        "id": "hkI42E3Rh5SJ",
        "outputId": "03468b39-5fea-4e99-ff1d-c874b113e648",
        "trusted": false
      },
      "outputs": [],
      "source": [
        "# Zugriff auf iris.DESCR\n"
      ]
    },
    {
      "cell_type": "code",
      "execution_count": null,
      "metadata": {
        "colab": {},
        "colab_type": "code",
        "id": "1z2taSz2h5SM",
        "trusted": false
      },
      "outputs": [],
      "source": [
        "# Daten und Zielvariable als X und y speichern\n"
      ]
    },
    {
      "cell_type": "code",
      "execution_count": null,
      "metadata": {},
      "outputs": [],
      "source": [
        "# Ansicht der ersten 10 Einträge von X\n"
      ]
    },
    {
      "cell_type": "code",
      "execution_count": null,
      "metadata": {
        "colab": {
          "base_uri": "https://localhost:8080/",
          "height": 34
        },
        "colab_type": "code",
        "id": "Gm188qjuh5SO",
        "outputId": "e69240d2-17f1-43e3-cfcc-827a5d8bdc8d",
        "trusted": false
      },
      "outputs": [],
      "source": [
        "# shape von X und y\n"
      ]
    },
    {
      "cell_type": "code",
      "execution_count": null,
      "metadata": {
        "colab": {},
        "colab_type": "code",
        "id": "riwRv79Lh5SV",
        "trusted": false
      },
      "outputs": [],
      "source": [
        "# einzelne Features aus X extrahieren: sepal_length, sepal_width, petal_length, petal_width"
      ]
    },
    {
      "cell_type": "code",
      "execution_count": null,
      "metadata": {
        "colab": {
          "base_uri": "https://localhost:8080/",
          "height": 34
        },
        "colab_type": "code",
        "id": "6gnLtuwih5SX",
        "outputId": "03956c30-7180-4e63-a25e-de5f92c55422",
        "trusted": false
      },
      "outputs": [],
      "source": [
        "# shape eines Features"
      ]
    },
    {
      "cell_type": "code",
      "execution_count": null,
      "metadata": {},
      "outputs": [],
      "source": [
        "# Parameter as_frame von load_iris"
      ]
    },
    {
      "cell_type": "code",
      "execution_count": null,
      "metadata": {},
      "outputs": [],
      "source": [
        "# Ausgabe der Daten X als data frame\n"
      ]
    },
    {
      "cell_type": "markdown",
      "metadata": {
        "colab_type": "text",
        "id": "RAZnNuCph5SZ"
      },
      "source": [
        "## Wir bringen dem Computer bei, Irisblüten zu unterscheiden\n",
        "http://scikit-learn.org/stable/modules/cross_validation.html"
      ]
    },
    {
      "cell_type": "code",
      "execution_count": null,
      "metadata": {
        "colab": {},
        "colab_type": "code",
        "id": "JNfhRsgAh5Sa",
        "trusted": false
      },
      "outputs": [],
      "source": [
        "# Importieren von train_test_split aus sklearn.model_selection\n",
        "t"
      ]
    },
    {
      "cell_type": "code",
      "execution_count": null,
      "metadata": {
        "colab": {},
        "colab_type": "code",
        "id": "p03uUASgh5Sc",
        "trusted": false
      },
      "outputs": [],
      "source": [
        "# Aufteilung der Daten in Training (60%) und Test (40%)"
      ]
    },
    {
      "cell_type": "code",
      "execution_count": null,
      "metadata": {
        "colab": {
          "base_uri": "https://localhost:8080/",
          "height": 34
        },
        "colab_type": "code",
        "id": "xv85Mo2hh5Se",
        "outputId": "a9c94559-5de1-43cb-b687-7bb02f00eae3",
        "trusted": false
      },
      "outputs": [],
      "source": [
        "# Überprüfen von shape"
      ]
    },
    {
      "cell_type": "markdown",
      "metadata": {
        "colab_type": "text",
        "id": "JDhcs5cvh5Sg"
      },
      "source": [
        "### Wir trainieren einen einfachen KNN Klassifikator und überprüfen die Ergebnisse\n",
        "http://scikit-learn.org/stable/modules/neighbors.html#classification"
      ]
    },
    {
      "cell_type": "code",
      "execution_count": null,
      "metadata": {
        "colab": {},
        "colab_type": "code",
        "id": "zajQJRuLh5Sh",
        "trusted": false
      },
      "outputs": [],
      "source": [
        "# Importieren von KNN aus sklearn.neighbors"
      ]
    },
    {
      "cell_type": "code",
      "execution_count": null,
      "metadata": {
        "colab": {},
        "colab_type": "code",
        "id": "ooWLPyy1h5Sj",
        "trusted": false
      },
      "outputs": [],
      "source": [
        "# Erzeuge Klassifier mit 1 Nachbarn"
      ]
    },
    {
      "cell_type": "code",
      "execution_count": null,
      "metadata": {
        "colab": {
          "base_uri": "https://localhost:8080/",
          "height": 68
        },
        "colab_type": "code",
        "id": "uDPr67RIh5Sl",
        "outputId": "a60e8276-3a87-4823-ce4a-e789ca7d53d6",
        "trusted": false
      },
      "outputs": [],
      "source": [
        "# Trainiere Klassifier auf den Trainingsdaten"
      ]
    },
    {
      "cell_type": "code",
      "execution_count": null,
      "metadata": {
        "colab": {},
        "colab_type": "code",
        "id": "Sjtvakekh5Sn",
        "trusted": false
      },
      "outputs": [],
      "source": [
        "# Beispielhafte Klassifikation eines Datenbeispiels aus dem Testdatensatz"
      ]
    },
    {
      "cell_type": "code",
      "execution_count": null,
      "metadata": {
        "colab": {
          "base_uri": "https://localhost:8080/",
          "height": 34
        },
        "colab_type": "code",
        "id": "4KVLaOCmh5Sy",
        "outputId": "2dc7adb1-3457-4892-d4f5-8feb205e2d0e",
        "trusted": false
      },
      "outputs": [],
      "source": [
        "# Wiederhole Vorhersage für leicht abgeändertes Beispiel"
      ]
    },
    {
      "cell_type": "code",
      "execution_count": null,
      "metadata": {
        "colab": {
          "base_uri": "https://localhost:8080/",
          "height": 34
        },
        "colab_type": "code",
        "id": "bt934zU9h5S1",
        "outputId": "cf904daa-8c0f-4df2-f946-a985c9ab9110",
        "trusted": false
      },
      "outputs": [],
      "source": [
        "# Berechne Score auf dem Trainingsdatensatz"
      ]
    },
    {
      "cell_type": "code",
      "execution_count": null,
      "metadata": {
        "colab": {
          "base_uri": "https://localhost:8080/",
          "height": 34
        },
        "colab_type": "code",
        "id": "8-_Swmw0h5S4",
        "outputId": "cf23117d-c05e-4716-ac0e-6296d1510208",
        "trusted": false
      },
      "outputs": [],
      "source": [
        "# Berechne Score auf dem Testdatensatz"
      ]
    },
    {
      "cell_type": "markdown",
      "metadata": {
        "colab_type": "text",
        "id": "3GjVZmfCh5S5"
      },
      "source": [
        "## Um zu versehen, was durch das Training passiert ist, zeichnen wir die Decision Boundaries ein"
      ]
    },
    {
      "cell_type": "code",
      "execution_count": null,
      "metadata": {
        "colab": {},
        "colab_type": "code",
        "id": "rZAypnGch5S6",
        "trusted": false
      },
      "outputs": [],
      "source": [
        "# ignore this, it is just technical code\n",
        "# should come from a lib, consider it to appear magically \n",
        "# http://scikit-learn.org/stable/auto_examples/neighbors/plot_classification.html\n",
        "\n",
        "import matplotlib.pyplot as plt\n",
        "from matplotlib.colors import ListedColormap\n",
        "\n",
        "cmap_bold = ListedColormap(['#FF0000', '#00FF00', '#0000FF'])\n",
        "cmap_light = ListedColormap(['#FFAAAA', '#AAFFAA', '#AAAAFF'])\n",
        "font_size=25\n",
        "\n",
        "def meshGrid(x_data, y_data):\n",
        "    h = .01  # step size in the mesh\n",
        "    x_min, x_max = x_data.min() - 1, x_data.max() + 1\n",
        "    y_min, y_max = y_data.min() - 1, y_data.max() + 1\n",
        "    xx, yy = np.meshgrid(np.arange(x_min, x_max, h),\n",
        "                         np.arange(y_min, y_max, h))\n",
        "    return (xx,yy)\n",
        "    \n",
        "def plotPrediction(clf, x_data, y_data, x_label, y_label, colors, title=\"\", mesh=True):\n",
        "    xx,yy = meshGrid(x_data, y_data)\n",
        "    Z = clf.predict(np.c_[xx.ravel(), yy.ravel()])\n",
        "\n",
        "    # Put the result into a color plot\n",
        "    Z = Z.reshape(xx.shape)\n",
        "    plt.figure(figsize=(20,10))\n",
        "    if mesh:\n",
        "        plt.pcolormesh(xx, yy, Z, cmap=cmap_light, alpha=0.7)\n",
        "    plt.xlim(xx.min(), xx.max())\n",
        "    plt.ylim(yy.min(), yy.max())\n",
        "    plt.scatter(x_data, y_data, c=colors, cmap=cmap_bold, s=80, marker='o', edgecolors=\"black\")\n",
        "    plt.xlabel(x_label, fontsize=font_size)\n",
        "    plt.ylabel(y_label, fontsize=font_size)\n",
        "    plt.title(title, fontsize=font_size)"
      ]
    },
    {
      "cell_type": "markdown",
      "metadata": {
        "colab_type": "text",
        "id": "NSO-j7Ezh5S8"
      },
      "source": [
        "## Overfitting"
      ]
    },
    {
      "cell_type": "code",
      "execution_count": null,
      "metadata": {
        "colab": {},
        "colab_type": "code",
        "id": "oXUD3kUWh5S8",
        "trusted": false
      },
      "outputs": [],
      "source": [
        "# Lege neue Trainings- und Testdaten an mit ausschließlich sepal-Feature"
      ]
    },
    {
      "cell_type": "code",
      "execution_count": null,
      "metadata": {
        "colab": {
          "base_uri": "https://localhost:8080/",
          "height": 68
        },
        "colab_type": "code",
        "id": "-0i95Fawh5S-",
        "outputId": "c2895eaf-05ea-4c3f-bf74-43d6660a1e48",
        "trusted": false
      },
      "outputs": [],
      "source": [
        "# Trainiere Klassifier mit 1 Nachbarn für neue Daten"
      ]
    },
    {
      "cell_type": "code",
      "execution_count": null,
      "metadata": {
        "colab": {
          "base_uri": "https://localhost:8080/",
          "height": 645
        },
        "colab_type": "code",
        "id": "5Y9Kt79Dh5TA",
        "outputId": "3b70c232-0833-4aa2-c1fe-f98073f58cae",
        "trusted": false
      },
      "outputs": [],
      "source": [
        "# Plotte Trainingsdaten\n"
      ]
    },
    {
      "cell_type": "markdown",
      "metadata": {
        "colab_type": "text",
        "id": "RjqDi_1Rh5TC"
      },
      "source": [
        "Scores sind gut für die Trainingsdaten, aber nicht so toll für Testdaten"
      ]
    },
    {
      "cell_type": "code",
      "execution_count": null,
      "metadata": {
        "colab": {
          "base_uri": "https://localhost:8080/",
          "height": 34
        },
        "colab_type": "code",
        "id": "l3Nncu8nh5TC",
        "outputId": "97b03bc6-0eab-4d8a-a16a-e48fd170d1cc",
        "trusted": false
      },
      "outputs": [],
      "source": [
        "# Score für Trainingsdaten"
      ]
    },
    {
      "cell_type": "code",
      "execution_count": null,
      "metadata": {
        "colab": {
          "base_uri": "https://localhost:8080/",
          "height": 34
        },
        "colab_type": "code",
        "id": "gfXXS3XXh5TE",
        "outputId": "2e53750f-c8fd-4d21-bfef-4cfb3c19ac17",
        "trusted": false
      },
      "outputs": [],
      "source": [
        "# Score für Testdaten"
      ]
    },
    {
      "cell_type": "markdown",
      "metadata": {
        "colab_type": "text",
        "id": "mVMqrNiQh5TG"
      },
      "source": [
        "Das sieht nach Overfittung aus, das siehst du auch beim Plotting der Deciscion Boundaries"
      ]
    },
    {
      "cell_type": "code",
      "execution_count": null,
      "metadata": {
        "colab": {
          "base_uri": "https://localhost:8080/",
          "height": 645
        },
        "colab_type": "code",
        "id": "KqGWSCNMh5TG",
        "outputId": "b435261a-9e9d-4d82-b434-8799352562f7",
        "trusted": false
      },
      "outputs": [],
      "source": [
        "# Plotte Trainingsdaten und Entscheidungsgrenze"
      ]
    },
    {
      "cell_type": "code",
      "execution_count": null,
      "metadata": {
        "colab": {
          "base_uri": "https://localhost:8080/",
          "height": 645
        },
        "colab_type": "code",
        "id": "-Zdxi--uh5TI",
        "outputId": "3c65bc3b-7f7b-48dc-ae4d-f5c6d170fac1",
        "trusted": false
      },
      "outputs": [],
      "source": [
        "# Plotte Testdaten und Entscheidungsgrenze"
      ]
    },
    {
      "cell_type": "markdown",
      "metadata": {},
      "source": [
        "## Underfitting"
      ]
    },
    {
      "cell_type": "markdown",
      "metadata": {
        "colab_type": "text",
        "id": "GLSNHLkah5TK"
      },
      "source": [
        "Wir machen das Modell weniger komplex, allgemeiner"
      ]
    },
    {
      "cell_type": "code",
      "execution_count": null,
      "metadata": {
        "colab": {
          "base_uri": "https://localhost:8080/",
          "height": 68
        },
        "colab_type": "code",
        "id": "lgImHWr_h5TK",
        "outputId": "8094ca7b-38ee-4141-de08-d09bc80cf4fc",
        "trusted": false
      },
      "outputs": [],
      "source": [
        "# Trainiere Klassifier mit 10 Nachbarn"
      ]
    },
    {
      "cell_type": "code",
      "execution_count": null,
      "metadata": {
        "colab": {
          "base_uri": "https://localhost:8080/",
          "height": 34
        },
        "colab_type": "code",
        "id": "suI_eT6kh5TM",
        "outputId": "75d3202f-8f36-47d8-c708-e285e0db0691",
        "trusted": false
      },
      "outputs": [],
      "source": [
        "# Score für Trainingsdaten"
      ]
    },
    {
      "cell_type": "code",
      "execution_count": null,
      "metadata": {
        "colab": {
          "base_uri": "https://localhost:8080/",
          "height": 34
        },
        "colab_type": "code",
        "id": "SSaIROFjh5TN",
        "outputId": "5727baa1-d5f3-4d74-804f-fb2f9f87ee01",
        "trusted": false
      },
      "outputs": [],
      "source": [
        "# Score für Testdaten"
      ]
    },
    {
      "cell_type": "code",
      "execution_count": null,
      "metadata": {
        "colab": {
          "base_uri": "https://localhost:8080/",
          "height": 645
        },
        "colab_type": "code",
        "id": "gtARmyn5h5TP",
        "outputId": "752a5d42-7ad1-4ca9-da79-54f8cd1a4129",
        "trusted": false
      },
      "outputs": [],
      "source": [
        "# Plotte Trainingsdaten und Entscheidungsgrenze"
      ]
    },
    {
      "cell_type": "markdown",
      "metadata": {
        "colab_type": "text",
        "id": "pLT4sUoPh5TR"
      },
      "source": [
        "Mit den Sepal Features werden wir immer entweder overfitten oder underfitten\n",
        "\n",
        "Wir versuchen es noch einmal mit den Petal Features"
      ]
    },
    {
      "cell_type": "markdown",
      "metadata": {},
      "source": [
        "## Eine bessere Feature-Auswahl"
      ]
    },
    {
      "cell_type": "code",
      "execution_count": null,
      "metadata": {
        "colab": {},
        "colab_type": "code",
        "id": "DsxUwXQlh5TS",
        "trusted": false
      },
      "outputs": [],
      "source": [
        "# Lege neue Trainings- und Testdaten an mit ausschließlich petal-Feature"
      ]
    },
    {
      "cell_type": "code",
      "execution_count": null,
      "metadata": {
        "colab": {
          "base_uri": "https://localhost:8080/",
          "height": 68
        },
        "colab_type": "code",
        "id": "rT1DmQhVh5TV",
        "outputId": "5d2f6bf2-ae5f-4ca9-d978-7818d9eae011",
        "trusted": false
      },
      "outputs": [],
      "source": [
        "# Trainiere neuen Klassifier mit 10 Nachbarn auf Trainingsdaten"
      ]
    },
    {
      "cell_type": "code",
      "execution_count": null,
      "metadata": {
        "colab": {
          "base_uri": "https://localhost:8080/",
          "height": 34
        },
        "colab_type": "code",
        "id": "8SNy_jXih5TX",
        "outputId": "6123fbe1-ddf5-45d4-f7b5-9b5740cdb69d",
        "trusted": false
      },
      "outputs": [],
      "source": [
        "# Score für Trainingsdaten"
      ]
    },
    {
      "cell_type": "code",
      "execution_count": null,
      "metadata": {
        "colab": {
          "base_uri": "https://localhost:8080/",
          "height": 34
        },
        "colab_type": "code",
        "id": "RuFFGUOoh5Tb",
        "outputId": "0e90b8b0-0fc3-4326-ce9f-6f7da72916f8",
        "trusted": false
      },
      "outputs": [],
      "source": [
        "# Score für Testdaten"
      ]
    },
    {
      "cell_type": "code",
      "execution_count": null,
      "metadata": {
        "colab": {
          "base_uri": "https://localhost:8080/",
          "height": 645
        },
        "colab_type": "code",
        "id": "0M_DYyT7h5Td",
        "outputId": "d816a589-0c2f-4a18-a556-49dd9be0edbc",
        "trusted": false
      },
      "outputs": [],
      "source": [
        "# Plotte Trainingsdaten und Entscheidungsgrenze\n"
      ]
    },
    {
      "cell_type": "code",
      "execution_count": null,
      "metadata": {
        "colab": {
          "base_uri": "https://localhost:8080/",
          "height": 645
        },
        "colab_type": "code",
        "id": "n5VEEL4xh5Th",
        "outputId": "a549395d-f5c0-47b5-987e-4a2955b03e0a",
        "trusted": false
      },
      "outputs": [],
      "source": [
        "# Plotte Testdaten und Entscheidungsgrenze\n"
      ]
    },
    {
      "cell_type": "markdown",
      "metadata": {
        "colab_type": "text",
        "collapsed": true,
        "id": "b6EUhrckh5Tk"
      },
      "source": [
        "Ein deutlich besseres Ergebnis, obwohl wir wieder nur 2 Features genommen haben. Es kann also entscheident sein, welche Features man nimmt."
      ]
    }
  ],
  "metadata": {
    "colab": {
      "include_colab_link": true,
      "name": "kap2.ipynb",
      "provenance": []
    },
    "interpreter": {
      "hash": "3247f7d4635bb288d9e06d3deacee818856115b2677ccfdf5a578edab993fe5f"
    },
    "kernelspec": {
      "display_name": "Python 3.9.7 ('base')",
      "language": "python",
      "name": "python3"
    },
    "language_info": {
      "codemirror_mode": {
        "name": "ipython",
        "version": 3
      },
      "file_extension": ".py",
      "mimetype": "text/x-python",
      "name": "python",
      "nbconvert_exporter": "python",
      "pygments_lexer": "ipython3",
      "version": "3.9.7"
    }
  },
  "nbformat": 4,
  "nbformat_minor": 0
}
